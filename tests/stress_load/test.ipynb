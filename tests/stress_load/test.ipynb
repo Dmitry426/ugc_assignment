{
 "cells": [
  {
   "cell_type": "code",
   "execution_count": 68,
   "metadata": {
    "collapsed": true,
    "pycharm": {
     "name": "#%%\n"
    }
   },
   "outputs": [],
   "source": [
    "import json\n",
    "import orjson\n",
    "\n",
    "from clickhouse_driver import Client\n",
    "from datetime import datetime\n",
    "from kafka import KafkaProducer, KafkaConsumer\n",
    "from kafka import TopicPartition\n",
    "from kafka.structs import OffsetAndMetadata\n",
    "from pydantic import BaseModel, Field\n",
    "\n",
    "producer = KafkaProducer(\n",
    "    bootstrap_servers=f\"127.0.0.1:9092\"\n",
    ")\n",
    "consumer = KafkaConsumer(\n",
    "    'film',\n",
    "    bootstrap_servers=['192.168.5.35:9092'],\n",
    "    security_protocol='PLAINTEXT',\n",
    "    auto_offset_reset='earliest',\n",
    "    enable_auto_commit=True,\n",
    "    group_id='$Default',\n",
    "    value_deserializer=lambda x: x.decode('utf-8')\n",
    ")\n",
    "client = Client(host='127.0.0.1')"
   ]
  },
  {
   "cell_type": "code",
   "execution_count": 82,
   "outputs": [
    {
     "data": {
      "text/plain": "[('_temporary_and_external_tables',), ('default',), ('movies',), ('system',)]"
     },
     "execution_count": 82,
     "metadata": {},
     "output_type": "execute_result"
    }
   ],
   "source": [
    "client.execute('SHOW DATABASES')\n"
   ],
   "metadata": {
    "collapsed": false,
    "pycharm": {
     "name": "#%%\n"
    }
   }
  },
  {
   "cell_type": "code",
   "execution_count": 78,
   "outputs": [],
   "source": [
    "def insert_clickhouse(client: Client, data: list) -> None:\n",
    "    values: str = str([i for i in data]).lstrip('[').rstrip(']')\n",
    "    client.execute(\n",
    "        \"\"\"\n",
    "        INSERT INTO movies.film (\n",
    "        user_uuid, movie_id, event, created_at)  VALUES {}\n",
    "        \"\"\".format(values)\n",
    "    )\n",
    "\n",
    "def etl_process(topic: str, consumer: KafkaConsumer, clickhouse_client: Client, chunk: int) -> None:\n",
    "    data: list = []\n",
    "    for msg in consumer:\n",
    "        data.append(tuple(json.loads(msg.value).values()))\n",
    "        if len(data) == chunk:\n",
    "            insert_clickhouse(clickhouse_client, data)\n",
    "            data.clear()\n",
    "            tp = TopicPartition(topic, msg.partition)\n",
    "            options = {tp: OffsetAndMetadata(msg.offset + 1, None)}\n",
    "            consumer.commit(options)\n",
    "\n",
    "def create_tables(client: Client) -> None:\n",
    "    client.execute('CREATE DATABASE IF NOT EXISTS movies ON CLUSTER company_cluster;')\n",
    "    client.execute(\n",
    "        \"\"\"CREATE TABLE IF NOT EXISTS movies.film ON CLUSTER company_cluster(\n",
    "            user_uuid String,\n",
    "            movie_id String,\n",
    "            event Int64,\n",
    "            created_at DateTime64\n",
    "            ) Engine=MergeTree()\n",
    "            ORDER BY created_at;\n",
    "     \"\"\")"
   ],
   "metadata": {
    "collapsed": false,
    "pycharm": {
     "name": "#%%\n"
    }
   }
  },
  {
   "cell_type": "code",
   "execution_count": 72,
   "outputs": [],
   "source": [
    "def orjson_dumps(v, *, default):\n",
    "    return orjson.dumps(v, default=default).decode()\n",
    "\n",
    "class JsonConfig(BaseModel):\n",
    "    def toJSON(self):\n",
    "        return orjson.dumps(self, default=lambda o: o.__dict__)\n",
    "\n",
    "    class Config:\n",
    "        json_loads = orjson.loads\n",
    "        json_dumps = orjson_dumps\n",
    "\n",
    "class KafkaEventMovieViewTime(JsonConfig):\n",
    "    user_uuid: str\n",
    "    movie_id: str\n",
    "    event: int or str\n",
    "    created: datetime = Field(default_factory=datetime.utcnow)\n",
    "\n",
    "def toJSON(self):\n",
    "    return orjson.dumps(self, default=lambda o: o.__dict__)"
   ],
   "metadata": {
    "collapsed": false,
    "pycharm": {
     "name": "#%%\n"
    }
   }
  },
  {
   "cell_type": "code",
   "execution_count": 73,
   "outputs": [],
   "source": [
    "with open('d:\\\\python\\\\ya\\\\ugc_assignment\\\\tests\\\\stress_load\\\\fake_data_little.csv', 'r') as file:\n",
    "    events = file.read().splitlines()"
   ],
   "metadata": {
    "collapsed": false,
    "pycharm": {
     "name": "#%%\n"
    }
   }
  },
  {
   "cell_type": "code",
   "execution_count": 80,
   "outputs": [
    {
     "name": "stdout",
     "output_type": "stream",
     "text": [
      "b'{\"user_uuid\":\"0031feab-8f53-412a-8f53-47098a60ac73\",\"movie_id\":\"00af52ec-9345-4d66-adbe-50eb917f463a\",\"event\":309,\"created\":\"2022-04-15T19:36:20.097067\"}'\n",
      "b'{\"user_uuid\":\"0031feab-8f53-412a-8f53-47098a60ac73\",\"movie_id\":\"00af52ec-9345-4d66-adbe-50eb917f463a\",\"event\":821,\"created\":\"2022-04-15T19:36:20.097067\"}'\n",
      "b'{\"user_uuid\":\"0031feab-8f53-412a-8f53-47098a60ac73\",\"movie_id\":\"00af52ec-9345-4d66-adbe-50eb917f463a\",\"event\":987,\"created\":\"2022-04-15T19:36:20.097067\"}'\n"
     ]
    }
   ],
   "source": [
    "# for i in range(len(events)):\n",
    "for i in range(3):\n",
    "    event = json.loads(events[i])\n",
    "    viewed_progress = KafkaEventMovieViewTime(\n",
    "        user_uuid=event['user_uuid'],\n",
    "        movie_id=event['movie_id'],\n",
    "        event=event['event']\n",
    "    )\n",
    "    value = viewed_progress.toJSON()\n",
    "    key = f'{viewed_progress.user_uuid}:{viewed_progress.movie_id}'.encode()\n",
    "    producer.send(\n",
    "        topic='film',\n",
    "        value=value,\n",
    "        key=key,\n",
    "    )"
   ],
   "metadata": {
    "collapsed": false,
    "pycharm": {
     "name": "#%%\n"
    }
   }
  },
  {
   "cell_type": "code",
   "execution_count": 81,
   "outputs": [
    {
     "name": "stdout",
     "output_type": "stream",
     "text": [
      "--16--ConsumerRecord(topic='film', partition=0, offset=20, timestamp=1650051380097, timestamp_type=0, key=b'0031feab-8f53-412a-8f53-47098a60ac73:00af52ec-9345-4d66-adbe-50eb917f463a', value='{\"user_uuid\":\"0031feab-8f53-412a-8f53-47098a60ac73\",\"movie_id\":\"00af52ec-9345-4d66-adbe-50eb917f463a\",\"event\":309,\"created\":\"2022-04-15T19:36:20.097067\"}', headers=[], checksum=None, serialized_key_size=73, serialized_value_size=153, serialized_header_size=-1)\n",
      "--16--{\"user_uuid\":\"0031feab-8f53-412a-8f53-47098a60ac73\",\"movie_id\":\"00af52ec-9345-4d66-adbe-50eb917f463a\",\"event\":309,\"created\":\"2022-04-15T19:36:20.097067\"}\n",
      "--16--dict_values(['0031feab-8f53-412a-8f53-47098a60ac73', '00af52ec-9345-4d66-adbe-50eb917f463a', 309, '2022-04-15T19:36:20.097067'])\n",
      "--16--ConsumerRecord(topic='film', partition=0, offset=21, timestamp=1650051380097, timestamp_type=0, key=b'0031feab-8f53-412a-8f53-47098a60ac73:00af52ec-9345-4d66-adbe-50eb917f463a', value='{\"user_uuid\":\"0031feab-8f53-412a-8f53-47098a60ac73\",\"movie_id\":\"00af52ec-9345-4d66-adbe-50eb917f463a\",\"event\":821,\"created\":\"2022-04-15T19:36:20.097067\"}', headers=[], checksum=None, serialized_key_size=73, serialized_value_size=153, serialized_header_size=-1)\n",
      "--16--{\"user_uuid\":\"0031feab-8f53-412a-8f53-47098a60ac73\",\"movie_id\":\"00af52ec-9345-4d66-adbe-50eb917f463a\",\"event\":821,\"created\":\"2022-04-15T19:36:20.097067\"}\n",
      "--16--dict_values(['0031feab-8f53-412a-8f53-47098a60ac73', '00af52ec-9345-4d66-adbe-50eb917f463a', 821, '2022-04-15T19:36:20.097067'])\n",
      "--16--ConsumerRecord(topic='film', partition=0, offset=22, timestamp=1650051380097, timestamp_type=0, key=b'0031feab-8f53-412a-8f53-47098a60ac73:00af52ec-9345-4d66-adbe-50eb917f463a', value='{\"user_uuid\":\"0031feab-8f53-412a-8f53-47098a60ac73\",\"movie_id\":\"00af52ec-9345-4d66-adbe-50eb917f463a\",\"event\":987,\"created\":\"2022-04-15T19:36:20.097067\"}', headers=[], checksum=None, serialized_key_size=73, serialized_value_size=153, serialized_header_size=-1)\n",
      "--16--{\"user_uuid\":\"0031feab-8f53-412a-8f53-47098a60ac73\",\"movie_id\":\"00af52ec-9345-4d66-adbe-50eb917f463a\",\"event\":987,\"created\":\"2022-04-15T19:36:20.097067\"}\n",
      "--16--dict_values(['0031feab-8f53-412a-8f53-47098a60ac73', '00af52ec-9345-4d66-adbe-50eb917f463a', 987, '2022-04-15T19:36:20.097067'])\n"
     ]
    },
    {
     "ename": "KeyboardInterrupt",
     "evalue": "",
     "output_type": "error",
     "traceback": [
      "\u001B[1;31m---------------------------------------------------------------------------\u001B[0m",
      "\u001B[1;31mKeyboardInterrupt\u001B[0m                         Traceback (most recent call last)",
      "Input \u001B[1;32mIn [81]\u001B[0m, in \u001B[0;36m<cell line: 4>\u001B[1;34m()\u001B[0m\n\u001B[0;32m      2\u001B[0m chunk \u001B[38;5;241m=\u001B[39m \u001B[38;5;241m2\u001B[39m\n\u001B[0;32m      3\u001B[0m create_tables(client)\n\u001B[1;32m----> 4\u001B[0m \u001B[43metl_process\u001B[49m\u001B[43m(\u001B[49m\u001B[43mtopic\u001B[49m\u001B[43m,\u001B[49m\u001B[43m \u001B[49m\u001B[43mconsumer\u001B[49m\u001B[43m,\u001B[49m\u001B[43m \u001B[49m\u001B[43mclient\u001B[49m\u001B[43m,\u001B[49m\u001B[43m \u001B[49m\u001B[43mchunk\u001B[49m\u001B[43m)\u001B[49m\n\u001B[0;32m      5\u001B[0m \u001B[38;5;28mprint\u001B[39m (\u001B[38;5;124m'\u001B[39m\u001B[38;5;124m---тут---\u001B[39m\u001B[38;5;124m'\u001B[39m)\n",
      "Input \u001B[1;32mIn [78]\u001B[0m, in \u001B[0;36metl_process\u001B[1;34m(topic, consumer, clickhouse_client, chunk)\u001B[0m\n\u001B[0;32m     13\u001B[0m \u001B[38;5;28;01mdef\u001B[39;00m \u001B[38;5;21metl_process\u001B[39m(topic: \u001B[38;5;28mstr\u001B[39m, consumer: KafkaConsumer, clickhouse_client: Client, chunk: \u001B[38;5;28mint\u001B[39m) \u001B[38;5;241m-\u001B[39m\u001B[38;5;241m>\u001B[39m \u001B[38;5;28;01mNone\u001B[39;00m:\n\u001B[0;32m     14\u001B[0m     data: \u001B[38;5;28mlist\u001B[39m \u001B[38;5;241m=\u001B[39m []\n\u001B[1;32m---> 15\u001B[0m     \u001B[38;5;28;01mfor\u001B[39;00m msg \u001B[38;5;129;01min\u001B[39;00m consumer:\n\u001B[0;32m     16\u001B[0m         \u001B[38;5;28mprint\u001B[39m(\u001B[38;5;124mf\u001B[39m\u001B[38;5;124m'\u001B[39m\u001B[38;5;124m--16--\u001B[39m\u001B[38;5;132;01m{\u001B[39;00mmsg\u001B[38;5;132;01m}\u001B[39;00m\u001B[38;5;124m'\u001B[39m)\n\u001B[0;32m     17\u001B[0m         \u001B[38;5;28mprint\u001B[39m(\u001B[38;5;124mf\u001B[39m\u001B[38;5;124m'\u001B[39m\u001B[38;5;124m--16--\u001B[39m\u001B[38;5;132;01m{\u001B[39;00mmsg\u001B[38;5;241m.\u001B[39mvalue\u001B[38;5;132;01m}\u001B[39;00m\u001B[38;5;124m'\u001B[39m)\n",
      "File \u001B[1;32m~\\AppData\\Local\\pypoetry\\Cache\\virtualenvs\\ugc-service-9cJTjOch-py3.9\\lib\\site-packages\\kafka\\consumer\\group.py:1193\u001B[0m, in \u001B[0;36mKafkaConsumer.__next__\u001B[1;34m(self)\u001B[0m\n\u001B[0;32m   1191\u001B[0m     \u001B[38;5;28;01mreturn\u001B[39;00m \u001B[38;5;28mself\u001B[39m\u001B[38;5;241m.\u001B[39mnext_v1()\n\u001B[0;32m   1192\u001B[0m \u001B[38;5;28;01melse\u001B[39;00m:\n\u001B[1;32m-> 1193\u001B[0m     \u001B[38;5;28;01mreturn\u001B[39;00m \u001B[38;5;28;43mself\u001B[39;49m\u001B[38;5;241;43m.\u001B[39;49m\u001B[43mnext_v2\u001B[49m\u001B[43m(\u001B[49m\u001B[43m)\u001B[49m\n",
      "File \u001B[1;32m~\\AppData\\Local\\pypoetry\\Cache\\virtualenvs\\ugc-service-9cJTjOch-py3.9\\lib\\site-packages\\kafka\\consumer\\group.py:1201\u001B[0m, in \u001B[0;36mKafkaConsumer.next_v2\u001B[1;34m(self)\u001B[0m\n\u001B[0;32m   1199\u001B[0m     \u001B[38;5;28mself\u001B[39m\u001B[38;5;241m.\u001B[39m_iterator \u001B[38;5;241m=\u001B[39m \u001B[38;5;28mself\u001B[39m\u001B[38;5;241m.\u001B[39m_message_generator_v2()\n\u001B[0;32m   1200\u001B[0m \u001B[38;5;28;01mtry\u001B[39;00m:\n\u001B[1;32m-> 1201\u001B[0m     \u001B[38;5;28;01mreturn\u001B[39;00m \u001B[38;5;28;43mnext\u001B[39;49m\u001B[43m(\u001B[49m\u001B[38;5;28;43mself\u001B[39;49m\u001B[38;5;241;43m.\u001B[39;49m\u001B[43m_iterator\u001B[49m\u001B[43m)\u001B[49m\n\u001B[0;32m   1202\u001B[0m \u001B[38;5;28;01mexcept\u001B[39;00m \u001B[38;5;167;01mStopIteration\u001B[39;00m:\n\u001B[0;32m   1203\u001B[0m     \u001B[38;5;28mself\u001B[39m\u001B[38;5;241m.\u001B[39m_iterator \u001B[38;5;241m=\u001B[39m \u001B[38;5;28;01mNone\u001B[39;00m\n",
      "File \u001B[1;32m~\\AppData\\Local\\pypoetry\\Cache\\virtualenvs\\ugc-service-9cJTjOch-py3.9\\lib\\site-packages\\kafka\\consumer\\group.py:1116\u001B[0m, in \u001B[0;36mKafkaConsumer._message_generator_v2\u001B[1;34m(self)\u001B[0m\n\u001B[0;32m   1114\u001B[0m \u001B[38;5;28;01mdef\u001B[39;00m \u001B[38;5;21m_message_generator_v2\u001B[39m(\u001B[38;5;28mself\u001B[39m):\n\u001B[0;32m   1115\u001B[0m     timeout_ms \u001B[38;5;241m=\u001B[39m \u001B[38;5;241m1000\u001B[39m \u001B[38;5;241m*\u001B[39m (\u001B[38;5;28mself\u001B[39m\u001B[38;5;241m.\u001B[39m_consumer_timeout \u001B[38;5;241m-\u001B[39m time\u001B[38;5;241m.\u001B[39mtime())\n\u001B[1;32m-> 1116\u001B[0m     record_map \u001B[38;5;241m=\u001B[39m \u001B[38;5;28;43mself\u001B[39;49m\u001B[38;5;241;43m.\u001B[39;49m\u001B[43mpoll\u001B[49m\u001B[43m(\u001B[49m\u001B[43mtimeout_ms\u001B[49m\u001B[38;5;241;43m=\u001B[39;49m\u001B[43mtimeout_ms\u001B[49m\u001B[43m,\u001B[49m\u001B[43m \u001B[49m\u001B[43mupdate_offsets\u001B[49m\u001B[38;5;241;43m=\u001B[39;49m\u001B[38;5;28;43;01mFalse\u001B[39;49;00m\u001B[43m)\u001B[49m\n\u001B[0;32m   1117\u001B[0m     \u001B[38;5;28;01mfor\u001B[39;00m tp, records \u001B[38;5;129;01min\u001B[39;00m six\u001B[38;5;241m.\u001B[39miteritems(record_map):\n\u001B[0;32m   1118\u001B[0m         \u001B[38;5;66;03m# Generators are stateful, and it is possible that the tp / records\u001B[39;00m\n\u001B[0;32m   1119\u001B[0m         \u001B[38;5;66;03m# here may become stale during iteration -- i.e., we seek to a\u001B[39;00m\n\u001B[0;32m   1120\u001B[0m         \u001B[38;5;66;03m# different offset, pause consumption, or lose assignment.\u001B[39;00m\n\u001B[0;32m   1121\u001B[0m         \u001B[38;5;28;01mfor\u001B[39;00m record \u001B[38;5;129;01min\u001B[39;00m records:\n\u001B[0;32m   1122\u001B[0m             \u001B[38;5;66;03m# is_fetchable(tp) should handle assignment changes and offset\u001B[39;00m\n\u001B[0;32m   1123\u001B[0m             \u001B[38;5;66;03m# resets; for all other changes (e.g., seeks) we'll rely on the\u001B[39;00m\n\u001B[0;32m   1124\u001B[0m             \u001B[38;5;66;03m# outer function destroying the existing iterator/generator\u001B[39;00m\n\u001B[0;32m   1125\u001B[0m             \u001B[38;5;66;03m# via self._iterator = None\u001B[39;00m\n",
      "File \u001B[1;32m~\\AppData\\Local\\pypoetry\\Cache\\virtualenvs\\ugc-service-9cJTjOch-py3.9\\lib\\site-packages\\kafka\\consumer\\group.py:655\u001B[0m, in \u001B[0;36mKafkaConsumer.poll\u001B[1;34m(self, timeout_ms, max_records, update_offsets)\u001B[0m\n\u001B[0;32m    653\u001B[0m remaining \u001B[38;5;241m=\u001B[39m timeout_ms\n\u001B[0;32m    654\u001B[0m \u001B[38;5;28;01mwhile\u001B[39;00m \u001B[38;5;28;01mTrue\u001B[39;00m:\n\u001B[1;32m--> 655\u001B[0m     records \u001B[38;5;241m=\u001B[39m \u001B[38;5;28;43mself\u001B[39;49m\u001B[38;5;241;43m.\u001B[39;49m\u001B[43m_poll_once\u001B[49m\u001B[43m(\u001B[49m\u001B[43mremaining\u001B[49m\u001B[43m,\u001B[49m\u001B[43m \u001B[49m\u001B[43mmax_records\u001B[49m\u001B[43m,\u001B[49m\u001B[43m \u001B[49m\u001B[43mupdate_offsets\u001B[49m\u001B[38;5;241;43m=\u001B[39;49m\u001B[43mupdate_offsets\u001B[49m\u001B[43m)\u001B[49m\n\u001B[0;32m    656\u001B[0m     \u001B[38;5;28;01mif\u001B[39;00m records:\n\u001B[0;32m    657\u001B[0m         \u001B[38;5;28;01mreturn\u001B[39;00m records\n",
      "File \u001B[1;32m~\\AppData\\Local\\pypoetry\\Cache\\virtualenvs\\ugc-service-9cJTjOch-py3.9\\lib\\site-packages\\kafka\\consumer\\group.py:702\u001B[0m, in \u001B[0;36mKafkaConsumer._poll_once\u001B[1;34m(self, timeout_ms, max_records, update_offsets)\u001B[0m\n\u001B[0;32m    699\u001B[0m     \u001B[38;5;28mself\u001B[39m\u001B[38;5;241m.\u001B[39m_client\u001B[38;5;241m.\u001B[39mpoll(timeout_ms\u001B[38;5;241m=\u001B[39m\u001B[38;5;241m0\u001B[39m)\n\u001B[0;32m    701\u001B[0m timeout_ms \u001B[38;5;241m=\u001B[39m \u001B[38;5;28mmin\u001B[39m(timeout_ms, \u001B[38;5;28mself\u001B[39m\u001B[38;5;241m.\u001B[39m_coordinator\u001B[38;5;241m.\u001B[39mtime_to_next_poll() \u001B[38;5;241m*\u001B[39m \u001B[38;5;241m1000\u001B[39m)\n\u001B[1;32m--> 702\u001B[0m \u001B[38;5;28;43mself\u001B[39;49m\u001B[38;5;241;43m.\u001B[39;49m\u001B[43m_client\u001B[49m\u001B[38;5;241;43m.\u001B[39;49m\u001B[43mpoll\u001B[49m\u001B[43m(\u001B[49m\u001B[43mtimeout_ms\u001B[49m\u001B[38;5;241;43m=\u001B[39;49m\u001B[43mtimeout_ms\u001B[49m\u001B[43m)\u001B[49m\n\u001B[0;32m    703\u001B[0m \u001B[38;5;66;03m# after the long poll, we should check whether the group needs to rebalance\u001B[39;00m\n\u001B[0;32m    704\u001B[0m \u001B[38;5;66;03m# prior to returning data so that the group can stabilize faster\u001B[39;00m\n\u001B[0;32m    705\u001B[0m \u001B[38;5;28;01mif\u001B[39;00m \u001B[38;5;28mself\u001B[39m\u001B[38;5;241m.\u001B[39m_coordinator\u001B[38;5;241m.\u001B[39mneed_rejoin():\n",
      "File \u001B[1;32m~\\AppData\\Local\\pypoetry\\Cache\\virtualenvs\\ugc-service-9cJTjOch-py3.9\\lib\\site-packages\\kafka\\client_async.py:602\u001B[0m, in \u001B[0;36mKafkaClient.poll\u001B[1;34m(self, timeout_ms, future)\u001B[0m\n\u001B[0;32m    599\u001B[0m             timeout \u001B[38;5;241m=\u001B[39m \u001B[38;5;28mmin\u001B[39m(timeout, \u001B[38;5;28mself\u001B[39m\u001B[38;5;241m.\u001B[39mconfig[\u001B[38;5;124m'\u001B[39m\u001B[38;5;124mretry_backoff_ms\u001B[39m\u001B[38;5;124m'\u001B[39m])\n\u001B[0;32m    600\u001B[0m         timeout \u001B[38;5;241m=\u001B[39m \u001B[38;5;28mmax\u001B[39m(\u001B[38;5;241m0\u001B[39m, timeout)  \u001B[38;5;66;03m# avoid negative timeouts\u001B[39;00m\n\u001B[1;32m--> 602\u001B[0m     \u001B[38;5;28;43mself\u001B[39;49m\u001B[38;5;241;43m.\u001B[39;49m\u001B[43m_poll\u001B[49m\u001B[43m(\u001B[49m\u001B[43mtimeout\u001B[49m\u001B[43m \u001B[49m\u001B[38;5;241;43m/\u001B[39;49m\u001B[43m \u001B[49m\u001B[38;5;241;43m1000\u001B[39;49m\u001B[43m)\u001B[49m\n\u001B[0;32m    604\u001B[0m \u001B[38;5;66;03m# called without the lock to avoid deadlock potential\u001B[39;00m\n\u001B[0;32m    605\u001B[0m \u001B[38;5;66;03m# if handlers need to acquire locks\u001B[39;00m\n\u001B[0;32m    606\u001B[0m responses\u001B[38;5;241m.\u001B[39mextend(\u001B[38;5;28mself\u001B[39m\u001B[38;5;241m.\u001B[39m_fire_pending_completed_requests())\n",
      "File \u001B[1;32m~\\AppData\\Local\\pypoetry\\Cache\\virtualenvs\\ugc-service-9cJTjOch-py3.9\\lib\\site-packages\\kafka\\client_async.py:634\u001B[0m, in \u001B[0;36mKafkaClient._poll\u001B[1;34m(self, timeout)\u001B[0m\n\u001B[0;32m    631\u001B[0m \u001B[38;5;28mself\u001B[39m\u001B[38;5;241m.\u001B[39m_register_send_sockets()\n\u001B[0;32m    633\u001B[0m start_select \u001B[38;5;241m=\u001B[39m time\u001B[38;5;241m.\u001B[39mtime()\n\u001B[1;32m--> 634\u001B[0m ready \u001B[38;5;241m=\u001B[39m \u001B[38;5;28;43mself\u001B[39;49m\u001B[38;5;241;43m.\u001B[39;49m\u001B[43m_selector\u001B[49m\u001B[38;5;241;43m.\u001B[39;49m\u001B[43mselect\u001B[49m\u001B[43m(\u001B[49m\u001B[43mtimeout\u001B[49m\u001B[43m)\u001B[49m\n\u001B[0;32m    635\u001B[0m end_select \u001B[38;5;241m=\u001B[39m time\u001B[38;5;241m.\u001B[39mtime()\n\u001B[0;32m    636\u001B[0m \u001B[38;5;28;01mif\u001B[39;00m \u001B[38;5;28mself\u001B[39m\u001B[38;5;241m.\u001B[39m_sensors:\n",
      "File \u001B[1;32m~\\AppData\\Local\\Programs\\Python\\Python39\\lib\\selectors.py:324\u001B[0m, in \u001B[0;36mSelectSelector.select\u001B[1;34m(self, timeout)\u001B[0m\n\u001B[0;32m    322\u001B[0m ready \u001B[38;5;241m=\u001B[39m []\n\u001B[0;32m    323\u001B[0m \u001B[38;5;28;01mtry\u001B[39;00m:\n\u001B[1;32m--> 324\u001B[0m     r, w, _ \u001B[38;5;241m=\u001B[39m \u001B[38;5;28;43mself\u001B[39;49m\u001B[38;5;241;43m.\u001B[39;49m\u001B[43m_select\u001B[49m\u001B[43m(\u001B[49m\u001B[38;5;28;43mself\u001B[39;49m\u001B[38;5;241;43m.\u001B[39;49m\u001B[43m_readers\u001B[49m\u001B[43m,\u001B[49m\u001B[43m \u001B[49m\u001B[38;5;28;43mself\u001B[39;49m\u001B[38;5;241;43m.\u001B[39;49m\u001B[43m_writers\u001B[49m\u001B[43m,\u001B[49m\u001B[43m \u001B[49m\u001B[43m[\u001B[49m\u001B[43m]\u001B[49m\u001B[43m,\u001B[49m\u001B[43m \u001B[49m\u001B[43mtimeout\u001B[49m\u001B[43m)\u001B[49m\n\u001B[0;32m    325\u001B[0m \u001B[38;5;28;01mexcept\u001B[39;00m \u001B[38;5;167;01mInterruptedError\u001B[39;00m:\n\u001B[0;32m    326\u001B[0m     \u001B[38;5;28;01mreturn\u001B[39;00m ready\n",
      "File \u001B[1;32m~\\AppData\\Local\\Programs\\Python\\Python39\\lib\\selectors.py:315\u001B[0m, in \u001B[0;36mSelectSelector._select\u001B[1;34m(self, r, w, _, timeout)\u001B[0m\n\u001B[0;32m    314\u001B[0m \u001B[38;5;28;01mdef\u001B[39;00m \u001B[38;5;21m_select\u001B[39m(\u001B[38;5;28mself\u001B[39m, r, w, _, timeout\u001B[38;5;241m=\u001B[39m\u001B[38;5;28;01mNone\u001B[39;00m):\n\u001B[1;32m--> 315\u001B[0m     r, w, x \u001B[38;5;241m=\u001B[39m \u001B[43mselect\u001B[49m\u001B[38;5;241;43m.\u001B[39;49m\u001B[43mselect\u001B[49m\u001B[43m(\u001B[49m\u001B[43mr\u001B[49m\u001B[43m,\u001B[49m\u001B[43m \u001B[49m\u001B[43mw\u001B[49m\u001B[43m,\u001B[49m\u001B[43m \u001B[49m\u001B[43mw\u001B[49m\u001B[43m,\u001B[49m\u001B[43m \u001B[49m\u001B[43mtimeout\u001B[49m\u001B[43m)\u001B[49m\n\u001B[0;32m    316\u001B[0m     \u001B[38;5;28;01mreturn\u001B[39;00m r, w \u001B[38;5;241m+\u001B[39m x, []\n",
      "\u001B[1;31mKeyboardInterrupt\u001B[0m: "
     ]
    }
   ],
   "source": [
    "topic = 'film'\n",
    "chunk = 20000\n",
    "create_tables(client)\n",
    "etl_process(topic, consumer, client, chunk)\n"
   ],
   "metadata": {
    "collapsed": false,
    "pycharm": {
     "name": "#%%\n"
    }
   }
  }
 ],
 "metadata": {
  "kernelspec": {
   "display_name": "Python 3",
   "language": "python",
   "name": "python3"
  },
  "language_info": {
   "codemirror_mode": {
    "name": "ipython",
    "version": 2
   },
   "file_extension": ".py",
   "mimetype": "text/x-python",
   "name": "python",
   "nbconvert_exporter": "python",
   "pygments_lexer": "ipython2",
   "version": "2.7.6"
  }
 },
 "nbformat": 4,
 "nbformat_minor": 0
}