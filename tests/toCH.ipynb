{
 "cells": [
  {
   "cell_type": "code",
   "execution_count": 4,
   "outputs": [],
   "source": [
    "from clickhouse_driver import Client\n",
    "\n",
    "client = Client(host='127.0.0.1')"
   ],
   "metadata": {
    "collapsed": false,
    "pycharm": {
     "name": "#%%\n"
    }
   }
  },
  {
   "cell_type": "code",
   "execution_count": 5,
   "outputs": [
    {
     "ename": "EOFError",
     "evalue": "Unexpected EOF while reading bytes",
     "output_type": "error",
     "traceback": [
      "\u001B[1;31m---------------------------------------------------------------------------\u001B[0m",
      "\u001B[1;31mEOFError\u001B[0m                                  Traceback (most recent call last)",
      "Input \u001B[1;32mIn [5]\u001B[0m, in \u001B[0;36m<cell line: 1>\u001B[1;34m()\u001B[0m\n\u001B[1;32m----> 1\u001B[0m \u001B[43mclient\u001B[49m\u001B[38;5;241;43m.\u001B[39;49m\u001B[43mexecute\u001B[49m\u001B[43m(\u001B[49m\u001B[38;5;124;43m'\u001B[39;49m\u001B[38;5;124;43mSHOW DATABASES\u001B[39;49m\u001B[38;5;124;43m'\u001B[39;49m\u001B[43m)\u001B[49m\n",
      "File \u001B[1;32m~\\AppData\\Local\\pypoetry\\Cache\\virtualenvs\\ugc-service-9cJTjOch-py3.9\\lib\\site-packages\\clickhouse_driver\\client.py:296\u001B[0m, in \u001B[0;36mClient.execute\u001B[1;34m(self, query, params, with_column_types, external_tables, query_id, settings, types_check, columnar)\u001B[0m\n\u001B[0;32m    290\u001B[0m     rv \u001B[38;5;241m=\u001B[39m \u001B[38;5;28mself\u001B[39m\u001B[38;5;241m.\u001B[39mprocess_insert_query(\n\u001B[0;32m    291\u001B[0m         query, params, external_tables\u001B[38;5;241m=\u001B[39mexternal_tables,\n\u001B[0;32m    292\u001B[0m         query_id\u001B[38;5;241m=\u001B[39mquery_id, types_check\u001B[38;5;241m=\u001B[39mtypes_check,\n\u001B[0;32m    293\u001B[0m         columnar\u001B[38;5;241m=\u001B[39mcolumnar\n\u001B[0;32m    294\u001B[0m     )\n\u001B[0;32m    295\u001B[0m \u001B[38;5;28;01melse\u001B[39;00m:\n\u001B[1;32m--> 296\u001B[0m     rv \u001B[38;5;241m=\u001B[39m \u001B[38;5;28;43mself\u001B[39;49m\u001B[38;5;241;43m.\u001B[39;49m\u001B[43mprocess_ordinary_query\u001B[49m\u001B[43m(\u001B[49m\n\u001B[0;32m    297\u001B[0m \u001B[43m        \u001B[49m\u001B[43mquery\u001B[49m\u001B[43m,\u001B[49m\u001B[43m \u001B[49m\u001B[43mparams\u001B[49m\u001B[38;5;241;43m=\u001B[39;49m\u001B[43mparams\u001B[49m\u001B[43m,\u001B[49m\u001B[43m \u001B[49m\u001B[43mwith_column_types\u001B[49m\u001B[38;5;241;43m=\u001B[39;49m\u001B[43mwith_column_types\u001B[49m\u001B[43m,\u001B[49m\n\u001B[0;32m    298\u001B[0m \u001B[43m        \u001B[49m\u001B[43mexternal_tables\u001B[49m\u001B[38;5;241;43m=\u001B[39;49m\u001B[43mexternal_tables\u001B[49m\u001B[43m,\u001B[49m\n\u001B[0;32m    299\u001B[0m \u001B[43m        \u001B[49m\u001B[43mquery_id\u001B[49m\u001B[38;5;241;43m=\u001B[39;49m\u001B[43mquery_id\u001B[49m\u001B[43m,\u001B[49m\u001B[43m \u001B[49m\u001B[43mtypes_check\u001B[49m\u001B[38;5;241;43m=\u001B[39;49m\u001B[43mtypes_check\u001B[49m\u001B[43m,\u001B[49m\n\u001B[0;32m    300\u001B[0m \u001B[43m        \u001B[49m\u001B[43mcolumnar\u001B[49m\u001B[38;5;241;43m=\u001B[39;49m\u001B[43mcolumnar\u001B[49m\n\u001B[0;32m    301\u001B[0m \u001B[43m    \u001B[49m\u001B[43m)\u001B[49m\n\u001B[0;32m    302\u001B[0m \u001B[38;5;28mself\u001B[39m\u001B[38;5;241m.\u001B[39mlast_query\u001B[38;5;241m.\u001B[39mstore_elapsed(time() \u001B[38;5;241m-\u001B[39m start_time)\n\u001B[0;32m    303\u001B[0m \u001B[38;5;28;01mreturn\u001B[39;00m rv\n",
      "File \u001B[1;32m~\\AppData\\Local\\pypoetry\\Cache\\virtualenvs\\ugc-service-9cJTjOch-py3.9\\lib\\site-packages\\clickhouse_driver\\client.py:482\u001B[0m, in \u001B[0;36mClient.process_ordinary_query\u001B[1;34m(self, query, params, with_column_types, external_tables, query_id, types_check, columnar)\u001B[0m\n\u001B[0;32m    479\u001B[0m \u001B[38;5;28mself\u001B[39m\u001B[38;5;241m.\u001B[39mconnection\u001B[38;5;241m.\u001B[39msend_query(query, query_id\u001B[38;5;241m=\u001B[39mquery_id)\n\u001B[0;32m    480\u001B[0m \u001B[38;5;28mself\u001B[39m\u001B[38;5;241m.\u001B[39mconnection\u001B[38;5;241m.\u001B[39msend_external_tables(external_tables,\n\u001B[0;32m    481\u001B[0m                                      types_check\u001B[38;5;241m=\u001B[39mtypes_check)\n\u001B[1;32m--> 482\u001B[0m \u001B[38;5;28;01mreturn\u001B[39;00m \u001B[38;5;28;43mself\u001B[39;49m\u001B[38;5;241;43m.\u001B[39;49m\u001B[43mreceive_result\u001B[49m\u001B[43m(\u001B[49m\u001B[43mwith_column_types\u001B[49m\u001B[38;5;241;43m=\u001B[39;49m\u001B[43mwith_column_types\u001B[49m\u001B[43m,\u001B[49m\n\u001B[0;32m    483\u001B[0m \u001B[43m                           \u001B[49m\u001B[43mcolumnar\u001B[49m\u001B[38;5;241;43m=\u001B[39;49m\u001B[43mcolumnar\u001B[49m\u001B[43m)\u001B[49m\n",
      "File \u001B[1;32m~\\AppData\\Local\\pypoetry\\Cache\\virtualenvs\\ugc-service-9cJTjOch-py3.9\\lib\\site-packages\\clickhouse_driver\\client.py:143\u001B[0m, in \u001B[0;36mClient.receive_result\u001B[1;34m(self, with_column_types, progress, columnar)\u001B[0m\n\u001B[0;32m    139\u001B[0m \u001B[38;5;28;01melse\u001B[39;00m:\n\u001B[0;32m    140\u001B[0m     result \u001B[38;5;241m=\u001B[39m \u001B[38;5;28mself\u001B[39m\u001B[38;5;241m.\u001B[39mquery_result_cls(\n\u001B[0;32m    141\u001B[0m         gen, with_column_types\u001B[38;5;241m=\u001B[39mwith_column_types, columnar\u001B[38;5;241m=\u001B[39mcolumnar\n\u001B[0;32m    142\u001B[0m     )\n\u001B[1;32m--> 143\u001B[0m     \u001B[38;5;28;01mreturn\u001B[39;00m \u001B[43mresult\u001B[49m\u001B[38;5;241;43m.\u001B[39;49m\u001B[43mget_result\u001B[49m\u001B[43m(\u001B[49m\u001B[43m)\u001B[49m\n",
      "File \u001B[1;32m~\\AppData\\Local\\pypoetry\\Cache\\virtualenvs\\ugc-service-9cJTjOch-py3.9\\lib\\site-packages\\clickhouse_driver\\result.py:50\u001B[0m, in \u001B[0;36mQueryResult.get_result\u001B[1;34m(self)\u001B[0m\n\u001B[0;32m     45\u001B[0m \u001B[38;5;28;01mdef\u001B[39;00m \u001B[38;5;21mget_result\u001B[39m(\u001B[38;5;28mself\u001B[39m):\n\u001B[0;32m     46\u001B[0m     \u001B[38;5;124;03m\"\"\"\u001B[39;00m\n\u001B[0;32m     47\u001B[0m \u001B[38;5;124;03m    :return: stored query result.\u001B[39;00m\n\u001B[0;32m     48\u001B[0m \u001B[38;5;124;03m    \"\"\"\u001B[39;00m\n\u001B[1;32m---> 50\u001B[0m     \u001B[38;5;28;01mfor\u001B[39;00m packet \u001B[38;5;129;01min\u001B[39;00m \u001B[38;5;28mself\u001B[39m\u001B[38;5;241m.\u001B[39mpacket_generator:\n\u001B[0;32m     51\u001B[0m         \u001B[38;5;28mself\u001B[39m\u001B[38;5;241m.\u001B[39mstore(packet)\n\u001B[0;32m     53\u001B[0m     data \u001B[38;5;241m=\u001B[39m \u001B[38;5;28mself\u001B[39m\u001B[38;5;241m.\u001B[39mdata\n",
      "File \u001B[1;32m~\\AppData\\Local\\pypoetry\\Cache\\virtualenvs\\ugc-service-9cJTjOch-py3.9\\lib\\site-packages\\clickhouse_driver\\client.py:159\u001B[0m, in \u001B[0;36mClient.packet_generator\u001B[1;34m(self)\u001B[0m\n\u001B[0;32m    157\u001B[0m \u001B[38;5;28;01mwhile\u001B[39;00m \u001B[38;5;28;01mTrue\u001B[39;00m:\n\u001B[0;32m    158\u001B[0m     \u001B[38;5;28;01mtry\u001B[39;00m:\n\u001B[1;32m--> 159\u001B[0m         packet \u001B[38;5;241m=\u001B[39m \u001B[38;5;28;43mself\u001B[39;49m\u001B[38;5;241;43m.\u001B[39;49m\u001B[43mreceive_packet\u001B[49m\u001B[43m(\u001B[49m\u001B[43m)\u001B[49m\n\u001B[0;32m    160\u001B[0m         \u001B[38;5;28;01mif\u001B[39;00m \u001B[38;5;129;01mnot\u001B[39;00m packet:\n\u001B[0;32m    161\u001B[0m             \u001B[38;5;28;01mbreak\u001B[39;00m\n",
      "File \u001B[1;32m~\\AppData\\Local\\pypoetry\\Cache\\virtualenvs\\ugc-service-9cJTjOch-py3.9\\lib\\site-packages\\clickhouse_driver\\client.py:173\u001B[0m, in \u001B[0;36mClient.receive_packet\u001B[1;34m(self)\u001B[0m\n\u001B[0;32m    172\u001B[0m \u001B[38;5;28;01mdef\u001B[39;00m \u001B[38;5;21mreceive_packet\u001B[39m(\u001B[38;5;28mself\u001B[39m):\n\u001B[1;32m--> 173\u001B[0m     packet \u001B[38;5;241m=\u001B[39m \u001B[38;5;28;43mself\u001B[39;49m\u001B[38;5;241;43m.\u001B[39;49m\u001B[43mconnection\u001B[49m\u001B[38;5;241;43m.\u001B[39;49m\u001B[43mreceive_packet\u001B[49m\u001B[43m(\u001B[49m\u001B[43m)\u001B[49m\n\u001B[0;32m    175\u001B[0m     \u001B[38;5;28;01mif\u001B[39;00m packet\u001B[38;5;241m.\u001B[39mtype \u001B[38;5;241m==\u001B[39m ServerPacketTypes\u001B[38;5;241m.\u001B[39mEXCEPTION:\n\u001B[0;32m    176\u001B[0m         \u001B[38;5;28;01mraise\u001B[39;00m packet\u001B[38;5;241m.\u001B[39mexception\n",
      "File \u001B[1;32m~\\AppData\\Local\\pypoetry\\Cache\\virtualenvs\\ugc-service-9cJTjOch-py3.9\\lib\\site-packages\\clickhouse_driver\\connection.py:482\u001B[0m, in \u001B[0;36mConnection.receive_packet\u001B[1;34m(self)\u001B[0m\n\u001B[0;32m    479\u001B[0m \u001B[38;5;28;01mdef\u001B[39;00m \u001B[38;5;21mreceive_packet\u001B[39m(\u001B[38;5;28mself\u001B[39m):\n\u001B[0;32m    480\u001B[0m     packet \u001B[38;5;241m=\u001B[39m Packet()\n\u001B[1;32m--> 482\u001B[0m     packet\u001B[38;5;241m.\u001B[39mtype \u001B[38;5;241m=\u001B[39m packet_type \u001B[38;5;241m=\u001B[39m \u001B[43mread_varint\u001B[49m\u001B[43m(\u001B[49m\u001B[38;5;28;43mself\u001B[39;49m\u001B[38;5;241;43m.\u001B[39;49m\u001B[43mfin\u001B[49m\u001B[43m)\u001B[49m\n\u001B[0;32m    484\u001B[0m     \u001B[38;5;28;01mif\u001B[39;00m packet_type \u001B[38;5;241m==\u001B[39m ServerPacketTypes\u001B[38;5;241m.\u001B[39mDATA:\n\u001B[0;32m    485\u001B[0m         packet\u001B[38;5;241m.\u001B[39mblock \u001B[38;5;241m=\u001B[39m \u001B[38;5;28mself\u001B[39m\u001B[38;5;241m.\u001B[39mreceive_data()\n",
      "File \u001B[1;32mclickhouse_driver\\varint.pyx:62\u001B[0m, in \u001B[0;36mclickhouse_driver.varint.read_varint\u001B[1;34m()\u001B[0m\n",
      "File \u001B[1;32mclickhouse_driver\\bufferedreader.pyx:55\u001B[0m, in \u001B[0;36mclickhouse_driver.bufferedreader.BufferedReader.read_one\u001B[1;34m()\u001B[0m\n",
      "File \u001B[1;32mclickhouse_driver\\bufferedreader.pyx:240\u001B[0m, in \u001B[0;36mclickhouse_driver.bufferedreader.BufferedSocketReader.read_into_buffer\u001B[1;34m()\u001B[0m\n",
      "\u001B[1;31mEOFError\u001B[0m: Unexpected EOF while reading bytes"
     ]
    }
   ],
   "source": [
    "client.execute('SHOW DATABASES')"
   ],
   "metadata": {
    "collapsed": false,
    "pycharm": {
     "name": "#%%\n"
    }
   }
  },
  {
   "cell_type": "code",
   "execution_count": 3,
   "outputs": [
    {
     "name": "stderr",
     "output_type": "stream",
     "text": [
      "Error on 127.0.0.1:9000 ping: Unexpected EOF while reading bytes\n",
      "Connection was closed, reconnecting.\n"
     ]
    },
    {
     "ename": "ServerException",
     "evalue": "Code: 999.\nDB::Exception: Cannot use any of provided ZooKeeper nodes (Bad arguments). Stack trace:\n\n0. Poco::Exception::Exception(std::__1::basic_string<char, std::__1::char_traits<char>, std::__1::allocator<char> > const&, int) @ 0x110e3bb0 in /usr/bin/clickhouse\n1. DB::Exception::Exception(std::__1::basic_string<char, std::__1::char_traits<char>, std::__1::allocator<char> > const&, int) @ 0x998493d in /usr/bin/clickhouse\n2. Coordination::Exception::Exception(std::__1::basic_string<char, std::__1::char_traits<char>, std::__1::allocator<char> > const&, int, int) @ 0xeaaa638 in /usr/bin/clickhouse\n3. Coordination::Exception::Exception(std::__1::basic_string<char, std::__1::char_traits<char>, std::__1::allocator<char> > const&, int) @ 0xeaaac62 in /usr/bin/clickhouse\n4. ? @ 0xeabe71f in /usr/bin/clickhouse\n5. zkutil::ZooKeeper::ZooKeeper(Poco::Util::AbstractConfiguration const&, std::__1::basic_string<char, std::__1::char_traits<char>, std::__1::allocator<char> > const&) @ 0xeabbe37 in /usr/bin/clickhouse\n6. DB::Context::getZooKeeper() const @ 0xdc8c027 in /usr/bin/clickhouse\n7. DB::DDLWorker::getAndSetZooKeeper() @ 0xdcab1eb in /usr/bin/clickhouse\n8. DB::DDLWorker::enqueueQuery(DB::DDLLogEntry&) @ 0xdcb6da0 in /usr/bin/clickhouse\n9. DB::executeDDLQueryOnCluster(std::__1::shared_ptr<DB::IAST> const&, DB::Context const&, DB::AccessRightsElements&&) @ 0xdcb8ccd in /usr/bin/clickhouse\n10. DB::InterpreterCreateQuery::execute() @ 0xde2f33c in /usr/bin/clickhouse\n11. ? @ 0xe213999 in /usr/bin/clickhouse\n12. DB::executeQuery(std::__1::basic_string<char, std::__1::char_traits<char>, std::__1::allocator<char> > const&, DB::Context&, bool, DB::QueryProcessingStage::Enum, bool, bool) @ 0xe216e85 in /usr/bin/clickhouse\n13. DB::TCPHandler::runImpl() @ 0x9a8ad68 in /usr/bin/clickhouse\n14. DB::TCPHandler::run() @ 0x9a8bd70 in /usr/bin/clickhouse\n15. Poco::Net::TCPServerConnection::start() @ 0x10fcf92b in /usr/bin/clickhouse\n16. Poco::Net::TCPServerDispatcher::run() @ 0x10fcfdbb in /usr/bin/clickhouse\n17. Poco::PooledThread::run() @ 0x1117d986 in /usr/bin/clickhouse\n18. Poco::ThreadImpl::runnableEntry(void*) @ 0x11178c40 in /usr/bin/clickhouse\n19. start_thread @ 0x76db in /lib/x86_64-linux-gnu/libpthread-2.27.so\n20. clone @ 0x121a3f in /lib/x86_64-linux-gnu/libc-2.27.so\n",
     "output_type": "error",
     "traceback": [
      "\u001B[1;31m---------------------------------------------------------------------------\u001B[0m",
      "\u001B[1;31mServerException\u001B[0m                           Traceback (most recent call last)",
      "Input \u001B[1;32mIn [3]\u001B[0m, in \u001B[0;36m<cell line: 1>\u001B[1;34m()\u001B[0m\n\u001B[1;32m----> 1\u001B[0m \u001B[43mclient\u001B[49m\u001B[38;5;241;43m.\u001B[39;49m\u001B[43mexecute\u001B[49m\u001B[43m(\u001B[49m\u001B[38;5;124;43m'\u001B[39;49m\u001B[38;5;124;43mCREATE TABLE example.regular_table ON CLUSTER company_cluster (id Int64, x Int32) Engine=MergeTree() ORDER BY id\u001B[39;49m\u001B[38;5;124;43m'\u001B[39;49m\u001B[43m)\u001B[49m\n",
      "File \u001B[1;32m~\\AppData\\Local\\pypoetry\\Cache\\virtualenvs\\ugc-service-9cJTjOch-py3.9\\lib\\site-packages\\clickhouse_driver\\client.py:296\u001B[0m, in \u001B[0;36mClient.execute\u001B[1;34m(self, query, params, with_column_types, external_tables, query_id, settings, types_check, columnar)\u001B[0m\n\u001B[0;32m    290\u001B[0m     rv \u001B[38;5;241m=\u001B[39m \u001B[38;5;28mself\u001B[39m\u001B[38;5;241m.\u001B[39mprocess_insert_query(\n\u001B[0;32m    291\u001B[0m         query, params, external_tables\u001B[38;5;241m=\u001B[39mexternal_tables,\n\u001B[0;32m    292\u001B[0m         query_id\u001B[38;5;241m=\u001B[39mquery_id, types_check\u001B[38;5;241m=\u001B[39mtypes_check,\n\u001B[0;32m    293\u001B[0m         columnar\u001B[38;5;241m=\u001B[39mcolumnar\n\u001B[0;32m    294\u001B[0m     )\n\u001B[0;32m    295\u001B[0m \u001B[38;5;28;01melse\u001B[39;00m:\n\u001B[1;32m--> 296\u001B[0m     rv \u001B[38;5;241m=\u001B[39m \u001B[38;5;28;43mself\u001B[39;49m\u001B[38;5;241;43m.\u001B[39;49m\u001B[43mprocess_ordinary_query\u001B[49m\u001B[43m(\u001B[49m\n\u001B[0;32m    297\u001B[0m \u001B[43m        \u001B[49m\u001B[43mquery\u001B[49m\u001B[43m,\u001B[49m\u001B[43m \u001B[49m\u001B[43mparams\u001B[49m\u001B[38;5;241;43m=\u001B[39;49m\u001B[43mparams\u001B[49m\u001B[43m,\u001B[49m\u001B[43m \u001B[49m\u001B[43mwith_column_types\u001B[49m\u001B[38;5;241;43m=\u001B[39;49m\u001B[43mwith_column_types\u001B[49m\u001B[43m,\u001B[49m\n\u001B[0;32m    298\u001B[0m \u001B[43m        \u001B[49m\u001B[43mexternal_tables\u001B[49m\u001B[38;5;241;43m=\u001B[39;49m\u001B[43mexternal_tables\u001B[49m\u001B[43m,\u001B[49m\n\u001B[0;32m    299\u001B[0m \u001B[43m        \u001B[49m\u001B[43mquery_id\u001B[49m\u001B[38;5;241;43m=\u001B[39;49m\u001B[43mquery_id\u001B[49m\u001B[43m,\u001B[49m\u001B[43m \u001B[49m\u001B[43mtypes_check\u001B[49m\u001B[38;5;241;43m=\u001B[39;49m\u001B[43mtypes_check\u001B[49m\u001B[43m,\u001B[49m\n\u001B[0;32m    300\u001B[0m \u001B[43m        \u001B[49m\u001B[43mcolumnar\u001B[49m\u001B[38;5;241;43m=\u001B[39;49m\u001B[43mcolumnar\u001B[49m\n\u001B[0;32m    301\u001B[0m \u001B[43m    \u001B[49m\u001B[43m)\u001B[49m\n\u001B[0;32m    302\u001B[0m \u001B[38;5;28mself\u001B[39m\u001B[38;5;241m.\u001B[39mlast_query\u001B[38;5;241m.\u001B[39mstore_elapsed(time() \u001B[38;5;241m-\u001B[39m start_time)\n\u001B[0;32m    303\u001B[0m \u001B[38;5;28;01mreturn\u001B[39;00m rv\n",
      "File \u001B[1;32m~\\AppData\\Local\\pypoetry\\Cache\\virtualenvs\\ugc-service-9cJTjOch-py3.9\\lib\\site-packages\\clickhouse_driver\\client.py:482\u001B[0m, in \u001B[0;36mClient.process_ordinary_query\u001B[1;34m(self, query, params, with_column_types, external_tables, query_id, types_check, columnar)\u001B[0m\n\u001B[0;32m    479\u001B[0m \u001B[38;5;28mself\u001B[39m\u001B[38;5;241m.\u001B[39mconnection\u001B[38;5;241m.\u001B[39msend_query(query, query_id\u001B[38;5;241m=\u001B[39mquery_id)\n\u001B[0;32m    480\u001B[0m \u001B[38;5;28mself\u001B[39m\u001B[38;5;241m.\u001B[39mconnection\u001B[38;5;241m.\u001B[39msend_external_tables(external_tables,\n\u001B[0;32m    481\u001B[0m                                      types_check\u001B[38;5;241m=\u001B[39mtypes_check)\n\u001B[1;32m--> 482\u001B[0m \u001B[38;5;28;01mreturn\u001B[39;00m \u001B[38;5;28;43mself\u001B[39;49m\u001B[38;5;241;43m.\u001B[39;49m\u001B[43mreceive_result\u001B[49m\u001B[43m(\u001B[49m\u001B[43mwith_column_types\u001B[49m\u001B[38;5;241;43m=\u001B[39;49m\u001B[43mwith_column_types\u001B[49m\u001B[43m,\u001B[49m\n\u001B[0;32m    483\u001B[0m \u001B[43m                           \u001B[49m\u001B[43mcolumnar\u001B[49m\u001B[38;5;241;43m=\u001B[39;49m\u001B[43mcolumnar\u001B[49m\u001B[43m)\u001B[49m\n",
      "File \u001B[1;32m~\\AppData\\Local\\pypoetry\\Cache\\virtualenvs\\ugc-service-9cJTjOch-py3.9\\lib\\site-packages\\clickhouse_driver\\client.py:143\u001B[0m, in \u001B[0;36mClient.receive_result\u001B[1;34m(self, with_column_types, progress, columnar)\u001B[0m\n\u001B[0;32m    139\u001B[0m \u001B[38;5;28;01melse\u001B[39;00m:\n\u001B[0;32m    140\u001B[0m     result \u001B[38;5;241m=\u001B[39m \u001B[38;5;28mself\u001B[39m\u001B[38;5;241m.\u001B[39mquery_result_cls(\n\u001B[0;32m    141\u001B[0m         gen, with_column_types\u001B[38;5;241m=\u001B[39mwith_column_types, columnar\u001B[38;5;241m=\u001B[39mcolumnar\n\u001B[0;32m    142\u001B[0m     )\n\u001B[1;32m--> 143\u001B[0m     \u001B[38;5;28;01mreturn\u001B[39;00m \u001B[43mresult\u001B[49m\u001B[38;5;241;43m.\u001B[39;49m\u001B[43mget_result\u001B[49m\u001B[43m(\u001B[49m\u001B[43m)\u001B[49m\n",
      "File \u001B[1;32m~\\AppData\\Local\\pypoetry\\Cache\\virtualenvs\\ugc-service-9cJTjOch-py3.9\\lib\\site-packages\\clickhouse_driver\\result.py:50\u001B[0m, in \u001B[0;36mQueryResult.get_result\u001B[1;34m(self)\u001B[0m\n\u001B[0;32m     45\u001B[0m \u001B[38;5;28;01mdef\u001B[39;00m \u001B[38;5;21mget_result\u001B[39m(\u001B[38;5;28mself\u001B[39m):\n\u001B[0;32m     46\u001B[0m     \u001B[38;5;124;03m\"\"\"\u001B[39;00m\n\u001B[0;32m     47\u001B[0m \u001B[38;5;124;03m    :return: stored query result.\u001B[39;00m\n\u001B[0;32m     48\u001B[0m \u001B[38;5;124;03m    \"\"\"\u001B[39;00m\n\u001B[1;32m---> 50\u001B[0m     \u001B[38;5;28;01mfor\u001B[39;00m packet \u001B[38;5;129;01min\u001B[39;00m \u001B[38;5;28mself\u001B[39m\u001B[38;5;241m.\u001B[39mpacket_generator:\n\u001B[0;32m     51\u001B[0m         \u001B[38;5;28mself\u001B[39m\u001B[38;5;241m.\u001B[39mstore(packet)\n\u001B[0;32m     53\u001B[0m     data \u001B[38;5;241m=\u001B[39m \u001B[38;5;28mself\u001B[39m\u001B[38;5;241m.\u001B[39mdata\n",
      "File \u001B[1;32m~\\AppData\\Local\\pypoetry\\Cache\\virtualenvs\\ugc-service-9cJTjOch-py3.9\\lib\\site-packages\\clickhouse_driver\\client.py:159\u001B[0m, in \u001B[0;36mClient.packet_generator\u001B[1;34m(self)\u001B[0m\n\u001B[0;32m    157\u001B[0m \u001B[38;5;28;01mwhile\u001B[39;00m \u001B[38;5;28;01mTrue\u001B[39;00m:\n\u001B[0;32m    158\u001B[0m     \u001B[38;5;28;01mtry\u001B[39;00m:\n\u001B[1;32m--> 159\u001B[0m         packet \u001B[38;5;241m=\u001B[39m \u001B[38;5;28;43mself\u001B[39;49m\u001B[38;5;241;43m.\u001B[39;49m\u001B[43mreceive_packet\u001B[49m\u001B[43m(\u001B[49m\u001B[43m)\u001B[49m\n\u001B[0;32m    160\u001B[0m         \u001B[38;5;28;01mif\u001B[39;00m \u001B[38;5;129;01mnot\u001B[39;00m packet:\n\u001B[0;32m    161\u001B[0m             \u001B[38;5;28;01mbreak\u001B[39;00m\n",
      "File \u001B[1;32m~\\AppData\\Local\\pypoetry\\Cache\\virtualenvs\\ugc-service-9cJTjOch-py3.9\\lib\\site-packages\\clickhouse_driver\\client.py:176\u001B[0m, in \u001B[0;36mClient.receive_packet\u001B[1;34m(self)\u001B[0m\n\u001B[0;32m    173\u001B[0m packet \u001B[38;5;241m=\u001B[39m \u001B[38;5;28mself\u001B[39m\u001B[38;5;241m.\u001B[39mconnection\u001B[38;5;241m.\u001B[39mreceive_packet()\n\u001B[0;32m    175\u001B[0m \u001B[38;5;28;01mif\u001B[39;00m packet\u001B[38;5;241m.\u001B[39mtype \u001B[38;5;241m==\u001B[39m ServerPacketTypes\u001B[38;5;241m.\u001B[39mEXCEPTION:\n\u001B[1;32m--> 176\u001B[0m     \u001B[38;5;28;01mraise\u001B[39;00m packet\u001B[38;5;241m.\u001B[39mexception\n\u001B[0;32m    178\u001B[0m \u001B[38;5;28;01melif\u001B[39;00m packet\u001B[38;5;241m.\u001B[39mtype \u001B[38;5;241m==\u001B[39m ServerPacketTypes\u001B[38;5;241m.\u001B[39mPROGRESS:\n\u001B[0;32m    179\u001B[0m     \u001B[38;5;28mself\u001B[39m\u001B[38;5;241m.\u001B[39mlast_query\u001B[38;5;241m.\u001B[39mstore_progress(packet\u001B[38;5;241m.\u001B[39mprogress)\n",
      "\u001B[1;31mServerException\u001B[0m: Code: 999.\nDB::Exception: Cannot use any of provided ZooKeeper nodes (Bad arguments). Stack trace:\n\n0. Poco::Exception::Exception(std::__1::basic_string<char, std::__1::char_traits<char>, std::__1::allocator<char> > const&, int) @ 0x110e3bb0 in /usr/bin/clickhouse\n1. DB::Exception::Exception(std::__1::basic_string<char, std::__1::char_traits<char>, std::__1::allocator<char> > const&, int) @ 0x998493d in /usr/bin/clickhouse\n2. Coordination::Exception::Exception(std::__1::basic_string<char, std::__1::char_traits<char>, std::__1::allocator<char> > const&, int, int) @ 0xeaaa638 in /usr/bin/clickhouse\n3. Coordination::Exception::Exception(std::__1::basic_string<char, std::__1::char_traits<char>, std::__1::allocator<char> > const&, int) @ 0xeaaac62 in /usr/bin/clickhouse\n4. ? @ 0xeabe71f in /usr/bin/clickhouse\n5. zkutil::ZooKeeper::ZooKeeper(Poco::Util::AbstractConfiguration const&, std::__1::basic_string<char, std::__1::char_traits<char>, std::__1::allocator<char> > const&) @ 0xeabbe37 in /usr/bin/clickhouse\n6. DB::Context::getZooKeeper() const @ 0xdc8c027 in /usr/bin/clickhouse\n7. DB::DDLWorker::getAndSetZooKeeper() @ 0xdcab1eb in /usr/bin/clickhouse\n8. DB::DDLWorker::enqueueQuery(DB::DDLLogEntry&) @ 0xdcb6da0 in /usr/bin/clickhouse\n9. DB::executeDDLQueryOnCluster(std::__1::shared_ptr<DB::IAST> const&, DB::Context const&, DB::AccessRightsElements&&) @ 0xdcb8ccd in /usr/bin/clickhouse\n10. DB::InterpreterCreateQuery::execute() @ 0xde2f33c in /usr/bin/clickhouse\n11. ? @ 0xe213999 in /usr/bin/clickhouse\n12. DB::executeQuery(std::__1::basic_string<char, std::__1::char_traits<char>, std::__1::allocator<char> > const&, DB::Context&, bool, DB::QueryProcessingStage::Enum, bool, bool) @ 0xe216e85 in /usr/bin/clickhouse\n13. DB::TCPHandler::runImpl() @ 0x9a8ad68 in /usr/bin/clickhouse\n14. DB::TCPHandler::run() @ 0x9a8bd70 in /usr/bin/clickhouse\n15. Poco::Net::TCPServerConnection::start() @ 0x10fcf92b in /usr/bin/clickhouse\n16. Poco::Net::TCPServerDispatcher::run() @ 0x10fcfdbb in /usr/bin/clickhouse\n17. Poco::PooledThread::run() @ 0x1117d986 in /usr/bin/clickhouse\n18. Poco::ThreadImpl::runnableEntry(void*) @ 0x11178c40 in /usr/bin/clickhouse\n19. start_thread @ 0x76db in /lib/x86_64-linux-gnu/libpthread-2.27.so\n20. clone @ 0x121a3f in /lib/x86_64-linux-gnu/libc-2.27.so\n"
     ]
    }
   ],
   "source": [
    "client.execute('CREATE TABLE example.regular_table ON CLUSTER company_cluster (id Int64, x Int32) Engine=MergeTree() ORDER BY id')\n"
   ],
   "metadata": {
    "collapsed": false,
    "pycharm": {
     "name": "#%%\n"
    }
   }
  },
  {
   "cell_type": "code",
   "execution_count": null,
   "outputs": [],
   "source": [],
   "metadata": {
    "collapsed": false,
    "pycharm": {
     "name": "#%%\n"
    }
   }
  }
 ],
 "metadata": {
  "kernelspec": {
   "display_name": "Python 3",
   "language": "python",
   "name": "python3"
  },
  "language_info": {
   "codemirror_mode": {
    "name": "ipython",
    "version": 2
   },
   "file_extension": ".py",
   "mimetype": "text/x-python",
   "name": "python",
   "nbconvert_exporter": "python",
   "pygments_lexer": "ipython2",
   "version": "2.7.6"
  }
 },
 "nbformat": 4,
 "nbformat_minor": 0
}